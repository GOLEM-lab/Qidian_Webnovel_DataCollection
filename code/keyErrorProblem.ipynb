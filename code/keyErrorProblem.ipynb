{
 "cells": [
  {
   "cell_type": "code",
   "execution_count": 1,
   "metadata": {},
   "outputs": [],
   "source": [
    "import os\n",
    "import re\n",
    "import sys\n",
    "import json\n",
    "import time\n",
    "import shutil\n",
    "import requests\n",
    "import numpy as np\n",
    "import pandas as pd\n",
    "from tqdm import tqdm\n",
    "from bs4 import BeautifulSoup as bs\n",
    "from requests.exceptions import ConnectionError\n"
   ]
  },
  {
   "cell_type": "code",
   "execution_count": 4,
   "metadata": {},
   "outputs": [],
   "source": [
    "def get_Replies(reviewId):\n",
    "  urlReplies = \"https://www.qidian.com/ajax/chapterReview/quoteReviewList\"\n",
    "  page = \"1\"\n",
    "  page_int = 1\n",
    "  replies = []\n",
    "  while True:\n",
    "    querystring = {\"reviewId\":reviewId,\"page\":page,\"pageSize\":\"20\",\"_csrfToken\":\"07cc5d3d-fb2b-4d08-8915-561aae1b4d86\",\"w_tsfp\":\"ltvgWVEE2utBvS0Q6KzqnEymFjk7Z2R7xFw0D+M9Os09BqQiW5uE2IF5udfldCyCt5Mxutrd9MVxYnGHUdUseBMURsmYb5tH1VPHx8NlntdKRQJtA5LbDQMZK+4h6TZDdTkMLBbmjWwvJIETxORl3lwJ5SAm37ZlCa8hbMFbxl0yufqB0Jtsez6fxRXUEnT7J2MGf/jJ9p0x6PMUol2JowKuayctQP5X0zPQgG5GWz9atQS4AOhbNBWsJ86sWuQ2qTX6yjj2aIWu31ZytgUis2o8F9fymWSdehUdal5+Ziyxl7wiFP3odLBB5mpMArlMPVkS+lwc4eFt5BIdD3qgZCGPDedyvAEFW/df/pz9LCqX0s7kJhpF+ox8ywR15sNZ/TJgZ2n3Ld5aSGHLZXMPeY0Aa5y7NCoyUUNTXTdM5hUWPHhKF/lwMdLNsFTzdlFUwLJiMO+/euELaXiXBae2BrMyDmK088NjsBRfW6OoENYCb4k=\"}\n",
    "\n",
    "    payload = \"\"\n",
    "    headers = {\n",
    "        \"cookie\": \"supportWebp=true; newstatisticUUID=1716733315_1086707840; fu=1242577821\",\n",
    "        \"Accept\": \"application/json, text/plain, */*\",\n",
    "        \"Accept-Language\": \"en-US,en;q=0.9,fr-FR;q=0.8,fr;q=0.7\",\n",
    "        \"Connection\": \"keep-alive\",\n",
    "        \"Cookie\": \"supportWebp=true; _gid=GA1.2.1050708547.1716387806; supportwebp=true; Hm_lvt_f00f67093ce2f38f215010b699629083=1716387812,1716537935; _yep_uuid=aa73416d-c47a-e71f-b966-c9f20dcd42d3; _csrfToken=07cc5d3d-fb2b-4d08-8915-561aae1b4d86; qdrsnew=7%7C3%7C0%7C0%7C1; traffic_utm_referer=; trkf=1; newstatisticUUID=1716733315_1086707840; fu=1597427940; Hm_lpvt_f00f67093ce2f38f215010b699629083=1716739294; _ga_FZMMH98S83=GS1.1.1716736383.17.1.1716739293.0.0.0; _ga=GA1.1.206926275.1716387806; _ga_PFYW0QLV3P=GS1.1.1716736383.17.1.1716739293.0.0.0; w_tsfp=ltvgWVEE2utBvS0Q6KzqnEymFjk7Z2R7xFw0D+M9Os09BqQiW5uE2IF5udfldCyCt5Mxutrd9MVxYnGHUdUseBMURsiWb5tH1VPHx8NlntdKRQJtA5LbDQMZK+4h6TZDdTkMLBbmjWwvJIETxORl3lwJ5SAm37ZlCa8hbMFbxl0yufqB0Jtsez6fxRXUEnT7J2MGf/jJ9p0x6PMUol2JowKuayctQP5X0zPQgG5GWz9atQS4AOhbNBWsJ86sWuQ2qTX6yjj2aIWu31ZytgUis2o8F9fymWSdehUdal5+Ziyxl7wiFP3odLBB5mpMArlMPVkS+lwc4eFt5BIdD3qgZCGPDedyvAEFW/df/pz9LCqX0s7kJhpF+ox8ywR15sNZ/TJgZ2n3Ld5aSGHLZXMPeY0Aa5y7NCoyUUNTXTdM5hUWPHhKF/lwMdLNsFTzdlFUwOU1Nu/tfOwMbX3EU6S6AOQ0Djnu+Ztlsx0LDfOqEtUFb4k=\",\n",
    "        \"Referer\": \"https://www.qidian.com/chapter/1003692682/341658919/\",\n",
    "        \"User-Agent\": \"Mozilla/5.0 (X11; Linux x86_64) AppleWebKit/537.36 (KHTML, like Gecko) Chrome/125.0.0.0 Safari/537.36\"\n",
    "    }\n",
    "\n",
    "    response = requests.request(\"GET\", urlReplies, data=payload, headers=headers, params=querystring)\n",
    "    replies_dict = json.loads(response.text)\n",
    "    if len(replies_dict['data']['list']) > 0:\n",
    "        replies += replies_dict['data']['list']\n",
    "        page_int += 1\n",
    "        page = str(page_int)\n",
    "    else:\n",
    "      break\n",
    "  return replies\n",
    "\n",
    "\n",
    "\n",
    "def join_replies(bookId):\n",
    "    csv_files = os.listdir(\"data/qidianRepliesByComment/\" + bookId)\n",
    "    df = pd.DataFrame()\n",
    "    for csv_file in csv_files:\n",
    "        try:\n",
    "          temp_df = pd.read_csv(\"data/qidianRepliesByComment/\" + bookId + '/' + csv_file)\n",
    "          df = pd.concat([df,temp_df],ignore_index=True)\n",
    "        except pd.errors.EmptyDataError:\n",
    "          pass\n",
    "    df = df.drop_duplicates(subset=['reviewId'])\n",
    "    df = df.reset_index(drop=True)\n",
    "    df.to_csv(\"data/qidianReplies/\" + bookId + '.csv',index=False)"
   ]
  },
  {
   "cell_type": "code",
   "execution_count": 29,
   "metadata": {},
   "outputs": [
    {
     "name": "stderr",
     "output_type": "stream",
     "text": [
      "/tmp/ipykernel_738654/59750491.py:2: DtypeWarning: Columns (0,2,4,13,14,15,16,17,21,22,23,24,25) have mixed types. Specify dtype option on import or set low_memory=False.\n",
      "  comments_df = pd.read_csv('../data/qidianReviewsByBook/' + bookId + '.csv',dtype={'rootReviewId':'string'})\n"
     ]
    },
    {
     "name": "stdout",
     "output_type": "stream",
     "text": [
      "Number of Comments with Replies 25340\n",
      "Number of Missing Comment Replies 10\n",
      "\t “在制定这一套退休年龄框架时，中国的人均寿命还不足50岁\n",
      "\t Key Error. Moving to the next one\n",
      "\t 打牌。\n",
      "\t Key Error. Moving to the next one\n",
      "\t 7月15日\n",
      "\t Key Error. Moving to the next one\n",
      "\t 7月16日\n",
      "\t Key Error. Moving to the next one\n",
      "\t 净法啊净法！你怎么能如此堕落！先前订下的度化计划你都忘了吗？\n",
      "\t Key Error. Moving to the next one\n",
      "\t 子曰：“吾日三省吾身。”...不能再这样下去了！\n",
      "\t Key Error. Moving to the next one\n",
      "\t 7月17日\n",
      "\t Key Error. Moving to the next one\n",
      "\t 7月18日\n",
      "\t Key Error. Moving to the next one\n",
      "\t 🥫🎼🎼🎼🎼\n",
      "\t Key Error. Moving to the next one\n",
      "\t 561193491112263680\n"
     ]
    }
   ],
   "source": [
    "bookId = '1019664125'\n",
    "comments_df = pd.read_csv('../data/qidianReviewsByBook/' + bookId + '.csv',dtype={'rootReviewId':'string'})\n",
    "commentIdsWithReplies = comments_df[comments_df['rootReviewReplyCount']!=0]\n",
    "reviewIds = commentIdsWithReplies['reviewId'].values.tolist()\n",
    "print('Number of Comments with Replies', len(reviewIds))\n",
    "collectedSegmentIds = [id.replace('.csv','') for id in os.listdir(\"../data/qidianRepliesByComment/\" + bookId)]#ids are string\n",
    "missingCommentIdsWithReplies = [str(id) for id in reviewIds if str(id) not in collectedSegmentIds]#ids are string\n",
    "print('Number of Missing Comment Replies',len(missingCommentIdsWithReplies))\n",
    "for commentId in missingCommentIdsWithReplies[:4500]:\n",
    "    commentId = str(commentId)\n",
    "    print('\\t', commentId)\n",
    "    try:\n",
    "        replies = []\n",
    "        replies += get_Replies(commentId)\n",
    "        replies_df = pd.DataFrame(replies)\n",
    "        replies_df.to_csv(\"../data/qidianRepliesByComment/\" + bookId + '/' + commentId + '.csv',index=False)\n",
    "        #time.sleep(10*np.random.random())\n",
    "    except (ConnectionError,ValueError):\n",
    "        print('\\t Connection Error Value. Waiting for a while!!')\n",
    "        time.sleep(100) #sleep 100 seconds\n",
    "    except KeyError:\n",
    "        print('\\t Key Error. Moving to the next one')"
   ]
  },
  {
   "cell_type": "code",
   "execution_count": null,
   "metadata": {},
   "outputs": [],
   "source": [
    "\n",
    "bookId = '1010868264'\n",
    "#comments_df = pd.read_csv('../data/qidianReviewsByBook/' + bookId + '.csv',dtype={'rootReviewId': str})\n",
    "#with open('../data/keyerror_' + bookId + '.txt','r') as f:\n",
    "#    keyerrors = [err.strip() for err in f.readlines()]\n",
    "#comments_df = comments_df.dropna(subset=['rootReviewId'])\n",
    "#commentIdsWithReplies = comments_df['rootReviewId'].loc[comments_df['rootReviewReplyCount']!=0]\n",
    "#print('Number of Comments with Replies', len(commentIdsWithReplies))\n",
    "collectedSegmentIds = [id.replace('.csv','') for id in os.listdir(\"../data/qidianRepliesByComment/\" + bookId)]#ids are string\n",
    "print('Collected Ids:',len(collectedSegmentIds))\n",
    "missingCommentIdsWithReplies = [id for id in missingCommentIdsWithReplies if id not in collectedSegmentIds]#ID IS NUMERICAL\n",
    "#missingCommentIdsWithReplies = [id for id in missingCommentIdsWithReplies  if str(id) not in keyerrors]#ID IS NUMERICAL\n",
    "#print('Number of Missing Ids',len(missingCommentIdsWithReplies))\n",
    "#missingCommentIdsWithReplies = [i for i in missingCommentIdsWithReplies if i not in keyerrors]\n",
    "print('Number of Missing Ids witghout errors',len(missingCommentIdsWithReplies))\n",
    "for id in missingCommentIdsWithReplies:\n",
    "    commentId = str(id)\n",
    "    print('\\t', commentId)\n",
    "    try:\n",
    "        replies = []\n",
    "        replies += get_Replies(commentId)\n",
    "        replies_df = pd.DataFrame(replies)\n",
    "        replies_df.to_csv(\"../data/qidianRepliesByComment/\" + bookId + '/' + commentId + '.csv',index=False)\n",
    "        #time.sleep(10*np.random.random())\n",
    "    except (ConnectionError,ValueError):\n",
    "        print('\\t Connection Error Value. Waiting for a while!!')\n",
    "        time.sleep(100) #sleep 100 seconds      \n",
    "    except KeyError:\n",
    "        print('\\t Key Error. Moving to the next one')\n",
    "        #keyerrors.append(id)\n",
    "        \n"
   ]
  },
  {
   "cell_type": "code",
   "execution_count": 39,
   "metadata": {},
   "outputs": [
    {
     "name": "stderr",
     "output_type": "stream",
     "text": [
      "/tmp/ipykernel_738654/706921980.py:2: DtypeWarning: Columns (0,2,4,13,14,15,16,17,21,22,23,24,25) have mixed types. Specify dtype option on import or set low_memory=False.\n",
      "  comments_df = pd.read_csv('../data/qidianReviewsByBook/' + bookId + '.csv')\n"
     ]
    },
    {
     "name": "stdout",
     "output_type": "stream",
     "text": [
      "Number of Comments with Replies 51547\n",
      "54385\n"
     ]
    }
   ],
   "source": [
    "bookId = '1010868264'\n",
    "comments_df = pd.read_csv('../data/qidianReviewsByBook/' + bookId + '.csv')\n",
    "commentIdsWithReplies = comments_df[comments_df['rootReviewReplyCount']!=0]\n",
    "reviewIds = commentIdsWithReplies['reviewId'].values.tolist()\n",
    "reviewIds = [str(i) for i in reviewIds]\n",
    "print('Number of Comments with Replies', len(reviewIds))\n",
    "collectedSegmentIds = [id.replace('.csv','') for id in os.listdir(\"../data/qidianRepliesByComment/\" + bookId)]#ids are string = [id.replace('.csv','') for id in os.listdir(\"../data/qidianRepliesByComment/\" + bookId)]#ids are string\n",
    "print(len(collectedSegmentIds))"
   ]
  },
  {
   "cell_type": "code",
   "execution_count": 40,
   "metadata": {},
   "outputs": [
    {
     "name": "stderr",
     "output_type": "stream",
     "text": [
      "100%|██████████| 51547/51547 [29:33<00:00, 29.07it/s]\n"
     ]
    },
    {
     "data": {
      "text/plain": [
       "['381217599058411521',\n",
       " '906953775729344514',\n",
       " '907534929343807490',\n",
       " '907538968710217731']"
      ]
     },
     "execution_count": 40,
     "metadata": {},
     "output_type": "execute_result"
    }
   ],
   "source": [
    "missing = []\n",
    "reviewIds.sort()\n",
    "collectedSegmentIds.sort()\n",
    "for i in tqdm(reviewIds):\n",
    "    try:\n",
    "        i_f = float(i)\n",
    "        dif = np.array([i_f]) - np.array(collectedSegmentIds).astype(float)\n",
    "        if min(np.abs(dif)) == 0:\n",
    "            pass\n",
    "        else:\n",
    "            missing.append(i)\n",
    "    except:\n",
    "        pass\n",
    "\n",
    "missing"
   ]
  },
  {
   "cell_type": "code",
   "execution_count": 38,
   "metadata": {},
   "outputs": [
    {
     "data": {
      "text/plain": [
       "0"
      ]
     },
     "execution_count": 38,
     "metadata": {},
     "output_type": "execute_result"
    }
   ],
   "source": [
    "len(missing)"
   ]
  },
  {
   "cell_type": "code",
   "execution_count": 41,
   "metadata": {},
   "outputs": [],
   "source": [
    "df = pd.DataFrame({'id':missing})\n",
    "df.to_csv('../data/1010868264_problems.csv',index=False)"
   ]
  },
  {
   "cell_type": "code",
   "execution_count": null,
   "metadata": {},
   "outputs": [],
   "source": []
  }
 ],
 "metadata": {
  "kernelspec": {
   "display_name": ".ze",
   "language": "python",
   "name": "python3"
  },
  "language_info": {
   "codemirror_mode": {
    "name": "ipython",
    "version": 3
   },
   "file_extension": ".py",
   "mimetype": "text/x-python",
   "name": "python",
   "nbconvert_exporter": "python",
   "pygments_lexer": "ipython3",
   "version": "3.12.3"
  }
 },
 "nbformat": 4,
 "nbformat_minor": 2
}
