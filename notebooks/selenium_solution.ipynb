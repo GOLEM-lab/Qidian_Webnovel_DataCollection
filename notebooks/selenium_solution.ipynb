{
 "cells": [
  {
   "cell_type": "code",
   "execution_count": 3,
   "metadata": {},
   "outputs": [
    {
     "name": "stderr",
     "output_type": "stream",
     "text": [
      "/home/atatar/Documents/CIT/Calls/Ze/.ze/lib/python3.12/site-packages/tqdm/auto.py:21: TqdmWarning: IProgress not found. Please update jupyter and ipywidgets. See https://ipywidgets.readthedocs.io/en/stable/user_install.html\n",
      "  from .autonotebook import tqdm as notebook_tqdm\n"
     ]
    }
   ],
   "source": [
    "import os\n",
    "import time\n",
    "import requests\n",
    "import json\n",
    "import pandas as pd\n",
    "import numpy as np\n",
    "from tqdm.auto import tqdm\n",
    "from collections import defaultdict\n",
    "from bs4 import BeautifulSoup as bs\n",
    "\n",
    "#from selenium import webdriver\n",
    "#from selenium.webdriver.common.by import By\n",
    "#from selenium.webdriver.chrome.service import Service\n",
    "#from selenium.webdriver.support.wait import WebDriverWait\n",
    "#rom selenium.webdriver.support import expected_conditions as EC\n",
    "\n",
    "\n",
    "from selenium import webdriver\n",
    "from selenium.webdriver.common.by import By\n",
    "from selenium.webdriver.chrome.service import Service\n",
    "from selenium.webdriver.chrome.options import Options\n",
    "from selenium_stealth import stealth\n",
    "from webdriver_manager.chrome import ChromeDriverManager\n",
    "import time"
   ]
  },
  {
   "cell_type": "code",
   "execution_count": 11,
   "metadata": {},
   "outputs": [],
   "source": [
    "\n",
    "service = Service(executable_path=driver_path)"
   ]
  },
  {
   "cell_type": "code",
   "execution_count": 2,
   "metadata": {},
   "outputs": [],
   "source": [
    "url = 'https://www.qidian.com/ajax/chapterReview/reviewList?bookId=1003692682&chapterId=341658919&page=1&pageSize=20&segmentId=5&type=2&_csrfToken=07cc5d3d-fb2b-4d08-8915-561aae1b4d86&w_tsfp=ltvgWVEE2utBvS0Q6KzqnEymFjk7Z2R7xFw0D%2BM9Os09BqQiU52M0YRyttfldCyCt5Mxutrd9MVxYnGHUdUkfhgUTM%2BUb5tH1VPHx8NlntdKRQJtA5PbXgJMdrsh5GUXfT5bIEbj3m0tdIcSxbA0iF0J53Bz37ZlCa8hbMFbxl0yufqB0Jtsez6fxRXUEnT7J2MGf%2FjJ9p0y%2BOoJonigvBi%2FOVgCUeUdizzGwCtrD3gj4heydu9VNwmvJZ33Ca10%2BHGKliz0HpOo2BAm6Vk2uQs%2FBJWljmDfLAJFNQltJQnl1919Mfu%2BNZInuSQbWu8aHgRA90tg4fc6jUFaDy75KTXaEPkOtxUCQJ0KvI%2F6HXSeg8T5I3xZ7459kA80749TvTogem2jLdZHQGjKYG4Kf4xROsm6Zi5mWUVBQSUdtEtJfiUJV%2Fkpe4ee6xe2K0Ne0rEzZOftKeQMaX3EUPa%2FBbY1XDG8%2B5Jm9wkYWa%2F7QolAOJkRCjfd252sntV2fofjiw%2FmEHqIvLhYcTawVvEnKZagx64k7RDa'"
   ]
  },
  {
   "cell_type": "code",
   "execution_count": 5,
   "metadata": {},
   "outputs": [],
   "source": [
    "# Setup Chrome options\n",
    "chrome_options = Options()\n",
    "#chrome_options.add_argument(\"--headless\")\n",
    "chrome_options.add_argument(\"--no-sandbox\")\n",
    "chrome_options.add_argument(\"--disable-dev-shm-usage\")\n",
    "\n",
    "# Initialize the WebDriver\n",
    "service = Service(ChromeDriverManager().install())\n",
    "driver = webdriver.Chrome(service=service, options=chrome_options)\n",
    "\n",
    "\n",
    "\n",
    "driver = webdriver.Chrome(service=service, options=chrome_options)\n",
    "driver.get(url)\n",
    "\n",
    "# Wait for the content to load\n",
    "time.sleep(5)  # Adjust sleep time as necessary\n",
    "page = driver.page_source\n",
    "\n",
    "# Close the driver\n",
    "driver.quit()"
   ]
  },
  {
   "cell_type": "code",
   "execution_count": 4,
   "metadata": {},
   "outputs": [
    {
     "data": {
      "text/plain": [
       "'<html><head><meta name=\"color-scheme\" content=\"light dark\"><meta charset=\"utf-8\"></head><body><pre>{\"code\":1,\"msg\":\"\\\\u5931\\\\u8d25\"}</pre><div class=\"json-formatter-container\"></div></body></html>'"
      ]
     },
     "execution_count": 4,
     "metadata": {},
     "output_type": "execute_result"
    }
   ],
   "source": [
    "page"
   ]
  },
  {
   "cell_type": "code",
   "execution_count": 33,
   "metadata": {},
   "outputs": [],
   "source": [
    "driver_path = '/home/atatar/Documents/CIT/Calls/Ze/chromedriver'\n",
    "service = Service(executable_path=driver_path)\n",
    "options = webdriver.ChromeOptions()\n",
    "#options.add_argument('--user-data-dir=/home/atatar/.config/google-chrome/')\n",
    "#options.add_argument('--user-agent=\"Mozilla/5.0 (X11; Linux x86_64) AppleWebKit/537.36 (KHTML, like Gecko) Chrome/122.0.0.0 Safari/537.36\"')\n",
    "\n",
    "#options.add_argument('--headless')\n",
    "#options.add_extension('/home/atatar/Documents/CIT/Calls/Bass/notebooks/I don\\'t care about cookies 3.5.0.0.crx')\n",
    "driver = webdriver.Chrome(service=service,options=options)\n",
    "driver.get(url)\n",
    "\n",
    "time.sleep(5)  # Adjust sleep time as necessary\n",
    "\n",
    "# Scrape the reviews/comments\n",
    "comments = driver.find_elements(By.CSS_SELECTOR, \".comment-content\")\n",
    "for comment in comments:\n",
    "    print(comment.text)\n",
    "\n",
    "# Close the driver\n",
    "driver.quit()"
   ]
  },
  {
   "cell_type": "code",
   "execution_count": 10,
   "metadata": {},
   "outputs": [
    {
     "ename": "ModuleNotFoundError",
     "evalue": "No module named 'chromedriver_autoinstaller'",
     "output_type": "error",
     "traceback": [
      "\u001b[0;31m---------------------------------------------------------------------------\u001b[0m",
      "\u001b[0;31mModuleNotFoundError\u001b[0m                       Traceback (most recent call last)",
      "Cell \u001b[0;32mIn[10], line 5\u001b[0m\n\u001b[1;32m      2\u001b[0m sys\u001b[38;5;241m.\u001b[39mpath\u001b[38;5;241m.\u001b[39minsert(\u001b[38;5;241m0\u001b[39m,\u001b[38;5;124m'\u001b[39m\u001b[38;5;124m/usr/lib/chromium-browser/chromedriver\u001b[39m\u001b[38;5;124m'\u001b[39m)\n\u001b[1;32m      4\u001b[0m \u001b[38;5;28;01mfrom\u001b[39;00m \u001b[38;5;21;01mselenium\u001b[39;00m \u001b[38;5;28;01mimport\u001b[39;00m webdriver\n\u001b[0;32m----> 5\u001b[0m \u001b[38;5;28;01mimport\u001b[39;00m \u001b[38;5;21;01mchromedriver_autoinstaller\u001b[39;00m\n\u001b[1;32m      6\u001b[0m \u001b[38;5;28;01mfrom\u001b[39;00m \u001b[38;5;21;01mselenium\u001b[39;00m\u001b[38;5;21;01m.\u001b[39;00m\u001b[38;5;21;01mwebdriver\u001b[39;00m\u001b[38;5;21;01m.\u001b[39;00m\u001b[38;5;21;01mcommon\u001b[39;00m\u001b[38;5;21;01m.\u001b[39;00m\u001b[38;5;21;01mby\u001b[39;00m \u001b[38;5;28;01mimport\u001b[39;00m By\n\u001b[1;32m      9\u001b[0m \u001b[38;5;66;03m# setup chrome options\u001b[39;00m\n",
      "\u001b[0;31mModuleNotFoundError\u001b[0m: No module named 'chromedriver_autoinstaller'"
     ]
    }
   ],
   "source": [
    "import sys\n",
    "sys.path.insert(0,'/usr/lib/chromium-browser/chromedriver')\n",
    "\n",
    "from selenium import webdriver\n",
    "import chromedriver_autoinstaller\n",
    "from selenium.webdriver.common.by import By\n",
    "\n",
    "\n",
    "# setup chrome options\n",
    "chrome_options = webdriver.ChromeOptions()\n",
    "chrome_options.add_argument('--headless') # ensure GUI is off\n",
    "chrome_options.add_argument('--no-sandbox')\n",
    "chrome_options.add_argument(\"--incognito\")\n",
    "chrome_options.add_argument('--disable-dev-shm-usage')\n",
    "\n"
   ]
  },
  {
   "cell_type": "code",
   "execution_count": null,
   "metadata": {},
   "outputs": [
    {
     "ename": "ModuleNotFoundError",
     "evalue": "No module named 'seleniumwire'",
     "output_type": "error",
     "traceback": [
      "\u001b[0;31m---------------------------------------------------------------------------\u001b[0m",
      "\u001b[0;31mModuleNotFoundError\u001b[0m                       Traceback (most recent call last)",
      "Cell \u001b[0;32mIn[2], line 4\u001b[0m\n\u001b[1;32m      1\u001b[0m \u001b[38;5;28;01mfrom\u001b[39;00m \u001b[38;5;21;01mselenium\u001b[39;00m \u001b[38;5;28;01mimport\u001b[39;00m webdriver\n\u001b[1;32m      2\u001b[0m \u001b[38;5;28;01mfrom\u001b[39;00m \u001b[38;5;21;01mselenium\u001b[39;00m\u001b[38;5;21;01m.\u001b[39;00m\u001b[38;5;21;01mwebdriver\u001b[39;00m\u001b[38;5;21;01m.\u001b[39;00m\u001b[38;5;21;01mcommon\u001b[39;00m\u001b[38;5;21;01m.\u001b[39;00m\u001b[38;5;21;01mby\u001b[39;00m \u001b[38;5;28;01mimport\u001b[39;00m By\n\u001b[0;32m----> 4\u001b[0m \u001b[38;5;28;01mfrom\u001b[39;00m \u001b[38;5;21;01mseleniumwire\u001b[39;00m \u001b[38;5;28;01mimport\u001b[39;00m webdriver \u001b[38;5;28;01mas\u001b[39;00m webdriversw\n\u001b[1;32m      5\u001b[0m \u001b[38;5;28;01mfrom\u001b[39;00m \u001b[38;5;21;01mseleniumwire\u001b[39;00m\u001b[38;5;21;01m.\u001b[39;00m\u001b[38;5;21;01mutils\u001b[39;00m \u001b[38;5;28;01mimport\u001b[39;00m decode \u001b[38;5;28;01mas\u001b[39;00m decodesw\n\u001b[1;32m      7\u001b[0m \u001b[38;5;66;03m# setup chrome options\u001b[39;00m\n",
      "\u001b[0;31mModuleNotFoundError\u001b[0m: No module named 'seleniumwire'"
     ]
    }
   ],
   "source": [
    "from selenium import webdriver\n",
    "from selenium.webdriver.common.by import By\n",
    "\n",
    "from seleniumwire import webdriver as webdriversw\n",
    "from seleniumwire.utils import decode as decodesw\n",
    "\n",
    "# setup chrome options\n",
    "chrome_options = webdriver.# Scrape the reviews/comments\n",
    "comments = driver.find_elements(By.CSS_SELECTOR, \".comment-content\")\n",
    "for comment in comments:\n",
    "    print(comment.text)ChromeOptions()\n",
    "#chrome_options.add_argument('--headless') # ensure GUI is off\n",
    "chrome_options.add_argument('--no-sandbox')\n",
    "chrome_options.add_argument('--disable-dev-shm-usage')\n",
    "\n",
    "# setup chrome options for sw\n",
    "chrome_options = webdriversw.ChromeOptions()\n",
    "#chrome_options.add_argument('--headless') # ensure GUI is off\n",
    "chrome_options.add_argument('--no-sandbox')\n",
    "chrome_options.add_argument('--disable-dev-shm-usage')"
   ]
  },
  {
   "cell_type": "code",
   "execution_count": null,
   "metadata": {},
   "outputs": [],
   "source": [
    "driver_path = '/home/atatar/Documents/CIT/Calls/Federico/chromedriver'\n",
    "service = Service(executable_path=driver_path)\n",
    "header = {'user-agent':'Mozilla/5.0 (X11; Linux x86_64) AppleWebKit/537.36 (KHTML, like Gecko) Chrome/112.0.0.0 Safari/537.36'}"
   ]
  },
  {
   "cell_type": "code",
   "execution_count": 27,
   "metadata": {},
   "outputs": [
    {
     "name": "stdout",
     "output_type": "stream",
     "text": [
      "wwww.google.com\n",
      "www.bing.com\n",
      "www.baidu.com\n",
      "www.bing.com\n"
     ]
    }
   ],
   "source": [
    "import numpy as np\n",
    "chapterIds = ['341660737','341660806','341660843','341660876']\n",
    "referers = ['wwww.google.com','www.qidian.com','www.bing.com','www.duckduckgo.com','www.baidu.com']\n",
    "\n",
    "for chapetrId in chapterIds:\n",
    "    i = np.random.randint(0,5)\n",
    "    referer = referers[i]\n",
    "    print(referer)"
   ]
  },
  {
   "cell_type": "code",
   "execution_count": 31,
   "metadata": {},
   "outputs": [
    {
     "ename": "ValueError",
     "evalue": "({'ch'}, 'is not supported')",
     "output_type": "error",
     "traceback": [
      "\u001b[0;31m---------------------------------------------------------------------------\u001b[0m",
      "\u001b[0;31mValueError\u001b[0m                                Traceback (most recent call last)",
      "Cell \u001b[0;32mIn[31], line 4\u001b[0m\n\u001b[1;32m      1\u001b[0m \u001b[38;5;28;01mimport\u001b[39;00m \u001b[38;5;21;01measyocr\u001b[39;00m\n\u001b[1;32m      3\u001b[0m \u001b[38;5;66;03m# Create an OCR reader object\u001b[39;00m\n\u001b[0;32m----> 4\u001b[0m reader \u001b[38;5;241m=\u001b[39m \u001b[43measyocr\u001b[49m\u001b[38;5;241;43m.\u001b[39;49m\u001b[43mReader\u001b[49m\u001b[43m(\u001b[49m\u001b[43m[\u001b[49m\u001b[38;5;124;43m'\u001b[39;49m\u001b[38;5;124;43mch\u001b[39;49m\u001b[38;5;124;43m'\u001b[39;49m\u001b[43m]\u001b[49m\u001b[43m)\u001b[49m\n\u001b[1;32m      6\u001b[0m \u001b[38;5;66;03m# Read text from an image\u001b[39;00m\n\u001b[1;32m      7\u001b[0m result \u001b[38;5;241m=\u001b[39m reader\u001b[38;5;241m.\u001b[39mreadtext(\u001b[38;5;124m'\u001b[39m\u001b[38;5;124m/home/atatar/Documents/CIT/Calls/Ze/data/qidian.png\u001b[39m\u001b[38;5;124m'\u001b[39m)\n",
      "File \u001b[0;32m~/Documents/CIT/Calls/Ze/.ze/lib/python3.12/site-packages/easyocr/easyocr.py:109\u001b[0m, in \u001b[0;36mReader.__init__\u001b[0;34m(self, lang_list, gpu, model_storage_directory, user_network_directory, detect_network, recog_network, download_enabled, detector, recognizer, verbose, quantize, cudnn_benchmark)\u001b[0m\n\u001b[1;32m    107\u001b[0m unknown_lang \u001b[38;5;241m=\u001b[39m \u001b[38;5;28mset\u001b[39m(lang_list) \u001b[38;5;241m-\u001b[39m \u001b[38;5;28mset\u001b[39m(all_lang_list)\n\u001b[1;32m    108\u001b[0m \u001b[38;5;28;01mif\u001b[39;00m unknown_lang \u001b[38;5;241m!=\u001b[39m \u001b[38;5;28mset\u001b[39m():\n\u001b[0;32m--> 109\u001b[0m     \u001b[38;5;28;01mraise\u001b[39;00m \u001b[38;5;167;01mValueError\u001b[39;00m(unknown_lang, \u001b[38;5;124m'\u001b[39m\u001b[38;5;124mis not supported\u001b[39m\u001b[38;5;124m'\u001b[39m)\n\u001b[1;32m    110\u001b[0m \u001b[38;5;66;03m# choose recognition model\u001b[39;00m\n\u001b[1;32m    111\u001b[0m \u001b[38;5;28;01mif\u001b[39;00m lang_list \u001b[38;5;241m==\u001b[39m [\u001b[38;5;124m'\u001b[39m\u001b[38;5;124men\u001b[39m\u001b[38;5;124m'\u001b[39m]:\n",
      "\u001b[0;31mValueError\u001b[0m: ({'ch'}, 'is not supported')"
     ]
    }
   ],
   "source": [
    "import easyocr\n",
    "\n",
    "# Create an OCR reader object\n",
    "reader = easyocr.Reader(['ch'])\n",
    "\n",
    "# Read text from an image\n",
    "result = reader.readtext('/home/atatar/Documents/CIT/Calls/Ze/data/qidian.png')\n",
    "\n",
    "# Print the extracted text\n",
    "for detection in result:\n",
    "    print(detection[1])"
   ]
  },
  {
   "cell_type": "markdown",
   "metadata": {},
   "source": [
    "## URLS"
   ]
  },
  {
   "cell_type": "code",
   "execution_count": 3,
   "metadata": {},
   "outputs": [
    {
     "name": "stdout",
     "output_type": "stream",
     "text": [
      "<Response [403]>\n"
     ]
    }
   ],
   "source": [
    "url = 'https://www.webnovel.com/'\n",
    "response = requests.get(url,header)\n",
    "response.encoding = 'utf-8'\n",
    "print(response)"
   ]
  },
  {
   "cell_type": "code",
   "execution_count": 50,
   "metadata": {},
   "outputs": [],
   "source": [
    "page_urls = ['https://www.webnovel.com/stories/novel']"
   ]
  },
  {
   "cell_type": "code",
   "execution_count": 48,
   "metadata": {},
   "outputs": [
    {
     "data": {
      "text/plain": [
       "60"
      ]
     },
     "execution_count": 48,
     "metadata": {},
     "output_type": "execute_result"
    }
   ],
   "source": [
    "links = soup.find_all('a',{'class':'c_l'})\n",
    "len(links)"
   ]
  },
  {
   "cell_type": "code",
   "execution_count": 4,
   "metadata": {},
   "outputs": [],
   "source": [
    "def show_request_urls(driver,target_url):\n",
    "  driver.get(target_url)\n",
    "  urls = []\n",
    "  for request in driver.requests:\n",
    "    urls.append({\"url\":request.url})\n",
    "  return urls"
   ]
  },
  {
   "cell_type": "code",
   "execution_count": 7,
   "metadata": {},
   "outputs": [
    {
     "name": "stdout",
     "output_type": "stream",
     "text": [
      "https://www.webnovel.com/go/pcm/bookReview/get-reviews?_csrfToken=7d3b0823-6835-4998-b1d6-ae8aef947f7d&bookId=8022472105002805&pageIndex=1&pageSize=30&orderBy=1&novelType=0&needSummary=1&_=1713265307995\n"
     ]
    }
   ],
   "source": [
    "\n",
    "book_url = 'https://www.webnovel.com/book/super-gene_8022472105002805'\n",
    "driver = webdriversw.Chrome(options=chrome_options)\n",
    "network_activity = show_request_urls(driver,book_url)\n",
    "for url in network_activity:\n",
    "  if 'review' in url['url']:\n",
    "    review_url = url['url']\n",
    "print(review_url)"
   ]
  },
  {
   "cell_type": "code",
   "execution_count": 20,
   "metadata": {},
   "outputs": [
    {
     "name": "stdout",
     "output_type": "stream",
     "text": [
      "<html><head><meta name=\"color-scheme\" content=\"light dark\"></head><body><pre style=\"word-wrap: break-word; white-space: pre-wrap;\">{}</pre></body></html>\n"
     ]
    }
   ],
   "source": [
    "driver = webdriver.Chrome(options=chrome_options)\n",
    "driver.get(review_url)\n",
    "driver.refresh()\n",
    "print(driver.page_source)\n",
    "elelemts = driver.find_element(By.XPATH,\"/html/body/pre\")\n",
    "driver.close()"
   ]
  },
  {
   "cell_type": "code",
   "execution_count": 22,
   "metadata": {},
   "outputs": [],
   "source": [
    "api_response = requests.get(\n",
    "    url=\"https://www.webnovel.com/go/pcm/bookReview/get-reviews?&bookId=8022472105002805&pageIndex=1&pageSize=30&orderBy=1&novelType=0&needSummary=1&_=1713265307995\",\n",
    "    headers={\"_csrfToken\": \"7d3b0823-6835-4998-b1d6-ae8aef947f7d\"},\n",
    ")"
   ]
  },
  {
   "cell_type": "code",
   "execution_count": 23,
   "metadata": {},
   "outputs": [
    {
     "data": {
      "text/plain": [
       "<Response [403]>"
      ]
     },
     "execution_count": 23,
     "metadata": {},
     "output_type": "execute_result"
    }
   ],
   "source": [
    "api_response"
   ]
  },
  {
   "cell_type": "code",
   "execution_count": null,
   "metadata": {},
   "outputs": [],
   "source": [
    "pd.read_csv('/home/atatar/Downloads/listOfBooks.xlsx')"
   ]
  },
  {
   "cell_type": "code",
   "execution_count": 6,
   "metadata": {},
   "outputs": [],
   "source": [
    "def get_CollectionProcessSummary(bookId):\n",
    "    #get the list of free chapters\n",
    "    with open('../data/qidianFreeChapterIds/' + bookId + '.txt',) as f:\n",
    "        chapterIds = [b.strip() for b in f.readlines()]\n",
    "    try:\n",
    "        with open('../data/qidianNoCommentChapterIds/' + bookId + '.txt',) as f:\n",
    "            noCommentChapterIds = [b.strip() for b in f.readlines()]\n",
    "    except:\n",
    "        noCommentChapterIds = []\n",
    "    #get the list of collected chapters:\n",
    "    fileList = os.listdir('../data/qidianReviews/' + bookId)\n",
    "    collectedIds = [file.split('.')[0] for file in fileList]\n",
    "    missingIds = [id for id in chapterIds if id not in collectedIds]\n",
    "    #qidianBookId,numOfChapters,numOfCollectedChapters,completionPercentage,missingChapterIds\n",
    "    return (id,len(chapterIds),len(collectedIds),len(collectedIds)/(len(chapterIds) - len(noCommentChapterIds))*100,missingIds,noCommentChapterIds)"
   ]
  },
  {
   "cell_type": "code",
   "execution_count": 9,
   "metadata": {},
   "outputs": [],
   "source": [
    "#bookList = pd.read_csv('../data/bookList.csv')\n",
    "#bookList = bookList.dropna(subset=['qidianUrl'])\n",
    "#qidianBookIds = bookList['qidianBookId']\n",
    "qidianBookIds = ['1192037']\n",
    "summary = []\n",
    "for id in qidianBookIds:\n",
    "    id = str(int(id))\n",
    "    summary.append(get_CollectionProcessSummary(id))\n",
    "\n",
    "summary_df = pd.DataFrame(summary,columns=['qidianBookId','numOfChapters','numOfCollectedChapters','completionPercentage','missingChapterIds','noCommentChapterIds'])\n",
    "summary_df = summary_df.sort_values('completionPercentage',ascending=False)\n",
    "summary_df.to_csv('../data/collectionProgress_' + str(pd.Timestamp.today()) + '.csv',index=False)"
   ]
  },
  {
   "cell_type": "code",
   "execution_count": 31,
   "metadata": {},
   "outputs": [],
   "source": []
  },
  {
   "cell_type": "code",
   "execution_count": 28,
   "metadata": {},
   "outputs": [],
   "source": []
  },
  {
   "cell_type": "code",
   "execution_count": null,
   "metadata": {},
   "outputs": [],
   "source": []
  }
 ],
 "metadata": {
  "kernelspec": {
   "display_name": ".venv",
   "language": "python",
   "name": "python3"
  },
  "language_info": {
   "codemirror_mode": {
    "name": "ipython",
    "version": 3
   },
   "file_extension": ".py",
   "mimetype": "text/x-python",
   "name": "python",
   "nbconvert_exporter": "python",
   "pygments_lexer": "ipython3",
   "version": "3.12.3"
  }
 },
 "nbformat": 4,
 "nbformat_minor": 2
}
